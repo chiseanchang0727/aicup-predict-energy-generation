{
 "cells": [
  {
   "cell_type": "code",
   "execution_count": 2,
   "metadata": {},
   "outputs": [],
   "source": [
    "import pandas as pd\n",
    "import os\n",
    "import sys\n",
    "\n",
    "# Make `src` dir can be imported\n",
    "project_root_path = os.path.abspath(os.path.join(os.getcwd(), '..'))  # /aicup-predict-energy-generation\n",
    "sys.path.append(project_root_path)\n",
    "\n",
    "from src.utils import load_environment"
   ]
  },
  {
   "cell_type": "code",
   "execution_count": 3,
   "metadata": {},
   "outputs": [],
   "source": [
    "df_L1 = pd.read_csv('../data/raw_data/L1_Train.csv')"
   ]
  },
  {
   "cell_type": "code",
   "execution_count": 4,
   "metadata": {},
   "outputs": [
    {
     "data": {
      "text/plain": [
       "LocationCode         int64\n",
       "DateTime            object\n",
       "WindSpeed(m/s)     float64\n",
       "Pressure(hpa)      float64\n",
       "Temperature(°C)    float64\n",
       "Humidity(%)        float64\n",
       "Sunlight(Lux)      float64\n",
       "Power(mW)          float64\n",
       "dtype: object"
      ]
     },
     "execution_count": 4,
     "metadata": {},
     "output_type": "execute_result"
    }
   ],
   "source": [
    "df_L1.dtypes"
   ]
  }
 ],
 "metadata": {
  "kernelspec": {
   "display_name": "aicup-energy",
   "language": "python",
   "name": "python3"
  },
  "language_info": {
   "codemirror_mode": {
    "name": "ipython",
    "version": 3
   },
   "file_extension": ".py",
   "mimetype": "text/x-python",
   "name": "python",
   "nbconvert_exporter": "python",
   "pygments_lexer": "ipython3",
   "version": "3.10.15"
  }
 },
 "nbformat": 4,
 "nbformat_minor": 2
}
