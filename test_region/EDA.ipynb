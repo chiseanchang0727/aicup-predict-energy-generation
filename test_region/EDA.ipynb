{
 "cells": [
  {
   "cell_type": "code",
   "execution_count": 1,
   "metadata": {},
   "outputs": [],
   "source": [
    "import pandas as pd\n",
    "import os\n",
    "import sys\n",
    "\n",
    "# Make `src` dir can be imported\n",
    "project_root_path = os.path.abspath(os.path.join(os.getcwd(), '..'))  # /aicup-predict-energy-generation\n",
    "sys.path.append(project_root_path)\n",
    "\n",
    "from src.utils import load_dataframes"
   ]
  },
  {
   "cell_type": "code",
   "execution_count": 2,
   "metadata": {},
   "outputs": [],
   "source": [
    "folder_path = '../data/raw_data/'\n",
    "\n",
    "df_raw_data = load_dataframes(folder_path)\n"
   ]
  },
  {
   "cell_type": "code",
   "execution_count": 3,
   "metadata": {},
   "outputs": [
    {
     "data": {
      "text/html": [
       "<div>\n",
       "<style scoped>\n",
       "    .dataframe tbody tr th:only-of-type {\n",
       "        vertical-align: middle;\n",
       "    }\n",
       "\n",
       "    .dataframe tbody tr th {\n",
       "        vertical-align: top;\n",
       "    }\n",
       "\n",
       "    .dataframe thead th {\n",
       "        text-align: right;\n",
       "    }\n",
       "</style>\n",
       "<table border=\"1\" class=\"dataframe\">\n",
       "  <thead>\n",
       "    <tr style=\"text-align: right;\">\n",
       "      <th></th>\n",
       "      <th>locationcode</th>\n",
       "      <th>datetime</th>\n",
       "      <th>windspeed</th>\n",
       "      <th>pressure</th>\n",
       "      <th>temperature</th>\n",
       "      <th>humidity</th>\n",
       "      <th>sunlight</th>\n",
       "      <th>power</th>\n",
       "      <th>device</th>\n",
       "    </tr>\n",
       "  </thead>\n",
       "  <tbody>\n",
       "    <tr>\n",
       "      <th>0</th>\n",
       "      <td>10</td>\n",
       "      <td>2024-03-01 17:14:06</td>\n",
       "      <td>0.0</td>\n",
       "      <td>1017.48</td>\n",
       "      <td>15.59</td>\n",
       "      <td>94.30</td>\n",
       "      <td>652.92</td>\n",
       "      <td>0.12</td>\n",
       "      <td>L10</td>\n",
       "    </tr>\n",
       "    <tr>\n",
       "      <th>1</th>\n",
       "      <td>10</td>\n",
       "      <td>2024-03-01 17:14:47</td>\n",
       "      <td>0.0</td>\n",
       "      <td>1017.48</td>\n",
       "      <td>15.66</td>\n",
       "      <td>94.04</td>\n",
       "      <td>682.50</td>\n",
       "      <td>0.12</td>\n",
       "      <td>L10</td>\n",
       "    </tr>\n",
       "    <tr>\n",
       "      <th>2</th>\n",
       "      <td>10</td>\n",
       "      <td>2024-03-01 17:15:47</td>\n",
       "      <td>0.0</td>\n",
       "      <td>1017.47</td>\n",
       "      <td>15.74</td>\n",
       "      <td>94.10</td>\n",
       "      <td>750.00</td>\n",
       "      <td>0.14</td>\n",
       "      <td>L10</td>\n",
       "    </tr>\n",
       "    <tr>\n",
       "      <th>3</th>\n",
       "      <td>10</td>\n",
       "      <td>2024-03-01 17:16:47</td>\n",
       "      <td>0.0</td>\n",
       "      <td>1017.46</td>\n",
       "      <td>15.78</td>\n",
       "      <td>94.09</td>\n",
       "      <td>738.33</td>\n",
       "      <td>0.14</td>\n",
       "      <td>L10</td>\n",
       "    </tr>\n",
       "    <tr>\n",
       "      <th>4</th>\n",
       "      <td>10</td>\n",
       "      <td>2024-03-01 17:17:47</td>\n",
       "      <td>0.0</td>\n",
       "      <td>1017.49</td>\n",
       "      <td>15.80</td>\n",
       "      <td>94.08</td>\n",
       "      <td>660.83</td>\n",
       "      <td>0.12</td>\n",
       "      <td>L10</td>\n",
       "    </tr>\n",
       "  </tbody>\n",
       "</table>\n",
       "</div>"
      ],
      "text/plain": [
       "   locationcode            datetime  windspeed  pressure  temperature  \\\n",
       "0            10 2024-03-01 17:14:06        0.0   1017.48        15.59   \n",
       "1            10 2024-03-01 17:14:47        0.0   1017.48        15.66   \n",
       "2            10 2024-03-01 17:15:47        0.0   1017.47        15.74   \n",
       "3            10 2024-03-01 17:16:47        0.0   1017.46        15.78   \n",
       "4            10 2024-03-01 17:17:47        0.0   1017.49        15.80   \n",
       "\n",
       "   humidity  sunlight  power device  \n",
       "0     94.30    652.92   0.12    L10  \n",
       "1     94.04    682.50   0.12    L10  \n",
       "2     94.10    750.00   0.14    L10  \n",
       "3     94.09    738.33   0.14    L10  \n",
       "4     94.08    660.83   0.12    L10  "
      ]
     },
     "execution_count": 3,
     "metadata": {},
     "output_type": "execute_result"
    }
   ],
   "source": [
    "df_raw_data['DateTime'] = pd.to_datetime(df_raw_data['DateTime'])\n",
    "# rename columns for convenient\n",
    "df_raw_data.columns = ['locationcode', 'datetime', 'windspeed', 'pressure', 'temperature', 'humidity', 'sunlight', 'power', 'device']\n",
    "df_raw_data.head()"
   ]
  },
  {
   "cell_type": "code",
   "execution_count": 5,
   "metadata": {},
   "outputs": [],
   "source": [
    "df_raw_data.to_csv('../data/processed_data/combined_data.csv', index=False, header=True)"
   ]
  },
  {
   "cell_type": "markdown",
   "metadata": {},
   "source": [
    "Note:\n",
    "- 0 weedspeed means no reasonable data.\n",
    "- The maximum value of Sunlight(Lux) in device is 117758.2 lux, however the energy generation is still going.\n",
    "    - we may need a model(ex. regression) to estimate the sunglight."
   ]
  },
  {
   "cell_type": "markdown",
   "metadata": {},
   "source": [
    "### Missing values"
   ]
  },
  {
   "cell_type": "code",
   "execution_count": 4,
   "metadata": {},
   "outputs": [
    {
     "data": {
      "text/plain": [
       "LocationCode       0\n",
       "DateTime           0\n",
       "WindSpeed(m/s)     0\n",
       "Pressure(hpa)      0\n",
       "Temperature(°C)    0\n",
       "Humidity(%)        0\n",
       "Sunlight(Lux)      0\n",
       "Power(mW)          0\n",
       "device             0\n",
       "dtype: int64"
      ]
     },
     "execution_count": 4,
     "metadata": {},
     "output_type": "execute_result"
    }
   ],
   "source": [
    "df_raw_data.isnull().sum()"
   ]
  },
  {
   "cell_type": "code",
   "execution_count": null,
   "metadata": {},
   "outputs": [],
   "source": []
  }
 ],
 "metadata": {
  "kernelspec": {
   "display_name": "aicup-energy-generation",
   "language": "python",
   "name": "python3"
  },
  "language_info": {
   "codemirror_mode": {
    "name": "ipython",
    "version": 3
   },
   "file_extension": ".py",
   "mimetype": "text/x-python",
   "name": "python",
   "nbconvert_exporter": "python",
   "pygments_lexer": "ipython3",
   "version": "3.10.15"
  }
 },
 "nbformat": 4,
 "nbformat_minor": 2
}
